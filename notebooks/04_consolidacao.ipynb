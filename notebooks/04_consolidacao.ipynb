{
 "cells": [
  {
   "cell_type": "markdown",
   "id": "5a150fff",
   "metadata": {},
   "source": [
    "## ✅ Conclusão Geral do Projeto\n",
    "\n",
    "🎯 **Objetivos alcançados:**\n",
    "- Entender o comportamento histórico das vendas.  \n",
    "- Criar segmentações de clientes estratégicas com RFM.  \n",
    "- Prever vendas futuras utilizando Prophet.\n",
    "\n",
    "---\n",
    "\n",
    "### 📊 Insights Principais\n",
    "\n",
    "- **Segmentação RFM:**  \n",
    "  - 🌟 *Melhores Clientes*: clientes fiéis e de alto valor.  \n",
    "  - 💎 *Leais*: compradores frequentes com bom valor total.  \n",
    "  - ⚠️ *Em Risco*: clientes que já compraram bastante, mas não compram recentemente.  \n",
    "  - 🆕 *Recém Chegados*: clientes novos com potencial.  \n",
    "  - ⬇️ *Baixo Valor*: clientes pouco ativos.  \n",
    "  - 📌 *Regulares*: clientes intermediários.\n",
    "\n",
    "- **Modelagem Prophet:**  \n",
    "  - Captura padrões diários, semanais e mensais das vendas.  \n",
    "  - Permite prever os próximos 30 dias com intervalos de confiança.  \n",
    "  - RMSE: **33.097,63** → indica desvio médio das previsões.  \n",
    "  - MAPE: **55,85%** → percentual médio de erro; sugere ajustes finos com eventos ou promoções.\n",
    "\n",
    "---\n",
    "\n",
    "### 💡 Próximos Passos\n",
    "\n",
    "- Incluir datas promocionais ou eventos especiais na modelagem.  \n",
    "- Analisar tendências por produto, categoria ou região.  \n",
    "- Ajustar sazonalidades e parâmetros do Prophet para melhorar previsões.  \n",
    "- Usar insights de RFM para ações comerciais personalizadas.\n",
    "\n",
    "---\n",
    "\n",
    "📌 **Resumo:**  \n",
    "O projeto consolidou EDA, pré-processamento, segmentação de clientes e previsão de vendas, oferecendo **uma visão completa do comportamento histórico e futuro do negócio**, pronta para tomada de decisão.\n"
   ]
  }
 ],
 "metadata": {
  "kernelspec": {
   "display_name": "Python (Windows)",
   "language": "python",
   "name": "winpython"
  },
  "language_info": {
   "codemirror_mode": {
    "name": "ipython",
    "version": 3
   },
   "file_extension": ".py",
   "mimetype": "text/x-python",
   "name": "python",
   "nbconvert_exporter": "python",
   "pygments_lexer": "ipython3",
   "version": "3.13.3"
  }
 },
 "nbformat": 4,
 "nbformat_minor": 5
}
